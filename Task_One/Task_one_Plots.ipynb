{
  "cells": [
    {
      "cell_type": "code",
      "execution_count": 1,
      "id": "rUf2NvfSH2ey",
      "metadata": {
        "ExecuteTime": {
          "end_time": "2024-07-22T20:39:59.142666Z",
          "start_time": "2024-07-22T20:39:59.138850Z"
        },
        "id": "rUf2NvfSH2ey"
      },
      "outputs": [],
      "source": [
        "import pandas as pd\n",
        "import numpy as np\n",
        "import matplotlib.pyplot as plt\n",
        "from sklearn.model_selection import train_test_split\n",
        "from sklearn.model_selection import cross_val_score\n",
        "from sklearn.linear_model import LogisticRegression\n",
        "from sklearn.naive_bayes import GaussianNB\n",
        "from sklearn.ensemble import RandomForestClassifier\n",
        "from sklearn.ensemble import GradientBoostingClassifier\n",
        "from sklearn.ensemble import AdaBoostClassifier\n",
        "from sklearn.ensemble import VotingClassifier\n",
        "from sklearn.metrics import recall_score\n",
        "from sklearn.metrics import f1_score\n",
        "from xgboost import XGBClassifier\n",
        "from sklearn.metrics import confusion_matrix, ConfusionMatrixDisplay\n",
        "from sklearn.model_selection import GridSearchCV"
      ]
    },
    {
      "cell_type": "code",
      "execution_count": 4,
      "id": "kjFKZxChKPcf",
      "metadata": {
        "ExecuteTime": {
          "end_time": "2024-07-22T20:46:24.688755Z",
          "start_time": "2024-07-22T20:46:23.998855Z"
        },
        "id": "kjFKZxChKPcf"
      },
      "outputs": [],
      "source": [
        "#### Data Visualization here\n",
        "\n",
        "data_normal = pd.read_csv('ptbdb_normal.csv', header = None)\n",
        "data_abnormal = pd.read_csv('ptbdb_abnormal.csv', header = None)\n",
        "classes_names = {0 : \"normal\",\n",
        "                 1 : \"abnormal\"}\n",
        "\n",
        "num_cols = data_normal.shape[1] - 1\n",
        "time = np.arange(0, num_cols) / 125\n",
        "time = time * 1000\n",
        "data_normal.columns = list(time) + [\"label\"]\n",
        "data_abnormal.columns = list(time) + [\"label\"]\n",
        "df_ptbd = pd.concat([data_normal, data_abnormal], axis = 0)\n",
        "counts = df_ptbd[\"label\"].value_counts()\n",
        "counts.index = counts.index.map(classes_names)"
      ]
    },
    {
      "cell_type": "code",
      "execution_count": 5,
      "id": "Zcztr5WPKT0k",
      "metadata": {
        "ExecuteTime": {
          "end_time": "2024-07-22T20:40:01.176531Z",
          "start_time": "2024-07-22T20:40:01.017246Z"
        },
        "colab": {
          "base_uri": "https://localhost:8080/",
          "height": 487
        },
        "id": "Zcztr5WPKT0k",
        "outputId": "f2060b81-a057-4070-f2f9-c7db2f8f1bcd"
      },
      "outputs": [
        {
          "output_type": "display_data",
          "data": {
            "text/plain": [
              "<Figure size 1000x500 with 1 Axes>"
            ],
            "image/png": "[encoded data removed]"
          },
          "metadata": {}
        }
      ],
      "source": [
        "# create a figure\n",
        "plt.figure(figsize = (10, 5))\n",
        "# plot a bar chart\n",
        "counts.plot(kind = \"bar\")\n",
        "# plot xticks in angle\n",
        "plt.xticks(rotation = 0)\n",
        "plt.title(\"Number of samples in each class\")\n",
        "plt.show()\n",
        "plt.close()"
      ]
    },
    {
      "cell_type": "code",
      "execution_count": 6,
      "id": "de15b4654e3845c9",
      "metadata": {
        "ExecuteTime": {
          "end_time": "2024-07-22T20:46:09.776615Z",
          "start_time": "2024-07-22T20:46:09.180065Z"
        },
        "colab": {
          "base_uri": "https://localhost:8080/"
        },
        "id": "de15b4654e3845c9",
        "outputId": "887c2d3d-52c2-48e6-d43b-7f264e237029"
      },
      "outputs": [
        {
          "output_type": "execute_result",
          "data": {
            "text/plain": [
              "9046"
            ]
          },
          "metadata": {},
          "execution_count": 6
        }
      ],
      "source": [
        "#### Data concatenation and preparation here\n",
        "normal_df = pd.read_csv(\"ptbdb_normal.csv\", header=None)\n",
        "abnormal_df = pd.read_csv(\"ptbdb_abnormal.csv\", header=None)\n",
        "\n",
        "abnormal_df.rename(columns={'187': \"Label\"}, inplace=True)\n",
        "normal_df.rename(columns={'187': \"Label\"}, inplace=True)\n",
        "\n",
        "#downsample the abnormal df to a size closer to the normal df\n",
        "abnormal_df = abnormal_df.sample(n=5000, random_state=1)\n",
        "total_df = pd.concat([normal_df, abnormal_df])\n",
        "\n",
        "len(total_df)"
      ]
    },
    {
      "cell_type": "code",
      "execution_count": 7,
      "id": "2c38c269e4d9cea7",
      "metadata": {
        "ExecuteTime": {
          "end_time": "2024-07-22T21:06:37.982888Z",
          "start_time": "2024-07-22T21:05:55.993203Z"
        },
        "id": "2c38c269e4d9cea7",
        "outputId": "5040194d-c569-4507-f927-4170b9c536dc",
        "colab": {
          "base_uri": "https://localhost:8080/"
        }
      },
      "outputs": [
        {
          "output_type": "stream",
          "name": "stderr",
          "text": [
            "/usr/local/lib/python3.10/dist-packages/sklearn/base.py:1152: DataConversionWarning: A column-vector y was passed when a 1d array was expected. Please change the shape of y to (n_samples,), for example using ravel().\n",
            "  return fit_method(estimator, *args, **kwargs)\n",
            "/usr/local/lib/python3.10/dist-packages/sklearn/base.py:1152: DataConversionWarning: A column-vector y was passed when a 1d array was expected. Please change the shape of y to (n_samples,), for example using ravel().\n",
            "  return fit_method(estimator, *args, **kwargs)\n",
            "/usr/local/lib/python3.10/dist-packages/sklearn/base.py:1152: DataConversionWarning: A column-vector y was passed when a 1d array was expected. Please change the shape of y to (n_samples,), for example using ravel().\n",
            "  return fit_method(estimator, *args, **kwargs)\n",
            "/usr/local/lib/python3.10/dist-packages/sklearn/base.py:1152: DataConversionWarning: A column-vector y was passed when a 1d array was expected. Please change the shape of y to (n_samples,), for example using ravel().\n",
            "  return fit_method(estimator, *args, **kwargs)\n",
            "/usr/local/lib/python3.10/dist-packages/sklearn/base.py:1152: DataConversionWarning: A column-vector y was passed when a 1d array was expected. Please change the shape of y to (n_samples,), for example using ravel().\n",
            "  return fit_method(estimator, *args, **kwargs)\n",
            "/usr/local/lib/python3.10/dist-packages/sklearn/base.py:1152: DataConversionWarning: A column-vector y was passed when a 1d array was expected. Please change the shape of y to (n_samples,), for example using ravel().\n",
            "  return fit_method(estimator, *args, **kwargs)\n"
          ]
        },
        {
          "output_type": "stream",
          "name": "stdout",
          "text": [
            "Random forest Accuracy Score: 0.9690470911250989\n",
            "Recall Score: 0.9678714859437751\n",
            "F1 Score: 0.9707955689828802\n"
          ]
        }
      ],
      "source": [
        "#### Model init and training here\n",
        "X, y = total_df.iloc[:,:187], total_df.iloc[:,-1:]\n",
        "\n",
        "X_train, X_test, y_train, y_test = train_test_split(X, y, test_size=0.2, random_state=42)\n",
        "\n",
        "model = RandomForestClassifier(n_estimators = 150, min_samples_split=5, random_state=1, bootstrap=False)\n",
        "model.fit(X_train, y_train)\n",
        "print(\"Random forest Accuracy Score:\", cross_val_score(model, X, y).mean())\n",
        "y_pred = model.predict(X_test)\n",
        "\n",
        "print(\"Recall Score:\", recall_score(y_test, y_pred))\n",
        "print(\"F1 Score:\", f1_score(y_test, y_pred))\n",
        "\n",
        "# model = random forest\n",
        "\n",
        "# clf1 = XGBClassifier(n_estimators=500, base_score=0.5, booster='gbtree', missing=0, verbosity=2)\n",
        "clf1 = XGBClassifier(use_label_encoder=False, eval_metric=\"logloss\", n_estimators=700, learning_rate=0.1, random_state=1)\n",
        "\n",
        "# clf2 = GradientBoostingClassifier() # was above 0.9 but worse than xgboost\n",
        "\n",
        "# models under 0.9\n",
        "# clf1 = LogisticRegression(random_state=1)\n",
        "# clf2 = RandomForestClassifier(n_estimators = 150, min_samples_split=5, random_state=1, bootstrap=False)\n",
        "# clf3 = GaussianNB()\n",
        "# clf5 = AdaBoostClassifier(n_estimators=100, algorithm=\"SAMME\", random_state=1)"
      ]
    },
    {
      "cell_type": "code",
      "execution_count": 8,
      "id": "698c6129-d4d1-4345-9659-cdab8eeacda2",
      "metadata": {
        "id": "698c6129-d4d1-4345-9659-cdab8eeacda2",
        "outputId": "e88d8145-b6df-4fcc-a895-1fd4701aaf5b",
        "colab": {
          "base_uri": "https://localhost:8080/"
        }
      },
      "outputs": [
        {
          "output_type": "stream",
          "name": "stderr",
          "text": [
            "/usr/local/lib/python3.10/dist-packages/sklearn/base.py:1152: DataConversionWarning: A column-vector y was passed when a 1d array was expected. Please change the shape of y to (n_samples,), for example using ravel().\n",
            "  return fit_method(estimator, *args, **kwargs)\n",
            "/usr/local/lib/python3.10/dist-packages/sklearn/base.py:1152: DataConversionWarning: A column-vector y was passed when a 1d array was expected. Please change the shape of y to (n_samples,), for example using ravel().\n",
            "  return fit_method(estimator, *args, **kwargs)\n",
            "/usr/local/lib/python3.10/dist-packages/sklearn/base.py:1152: DataConversionWarning: A column-vector y was passed when a 1d array was expected. Please change the shape of y to (n_samples,), for example using ravel().\n",
            "  return fit_method(estimator, *args, **kwargs)\n",
            "/usr/local/lib/python3.10/dist-packages/sklearn/base.py:1152: DataConversionWarning: A column-vector y was passed when a 1d array was expected. Please change the shape of y to (n_samples,), for example using ravel().\n",
            "  return fit_method(estimator, *args, **kwargs)\n",
            "/usr/local/lib/python3.10/dist-packages/sklearn/base.py:1152: DataConversionWarning: A column-vector y was passed when a 1d array was expected. Please change the shape of y to (n_samples,), for example using ravel().\n",
            "  return fit_method(estimator, *args, **kwargs)\n",
            "/usr/local/lib/python3.10/dist-packages/sklearn/base.py:1152: DataConversionWarning: A column-vector y was passed when a 1d array was expected. Please change the shape of y to (n_samples,), for example using ravel().\n",
            "  return fit_method(estimator, *args, **kwargs)\n",
            "/usr/local/lib/python3.10/dist-packages/sklearn/base.py:1152: DataConversionWarning: A column-vector y was passed when a 1d array was expected. Please change the shape of y to (n_samples,), for example using ravel().\n",
            "  return fit_method(estimator, *args, **kwargs)\n",
            "/usr/local/lib/python3.10/dist-packages/sklearn/base.py:1152: DataConversionWarning: A column-vector y was passed when a 1d array was expected. Please change the shape of y to (n_samples,), for example using ravel().\n",
            "  return fit_method(estimator, *args, **kwargs)\n",
            "/usr/local/lib/python3.10/dist-packages/sklearn/base.py:1152: DataConversionWarning: A column-vector y was passed when a 1d array was expected. Please change the shape of y to (n_samples,), for example using ravel().\n",
            "  return fit_method(estimator, *args, **kwargs)\n"
          ]
        },
        {
          "output_type": "stream",
          "name": "stdout",
          "text": [
            "{'min_samples_split': 5, 'n_estimators': 150}\n",
            "0.945054945054945\n"
          ]
        }
      ],
      "source": [
        "rfc = RandomForestClassifier()\n",
        "param_grid = {\"n_estimators\":[150,175], \"min_samples_split\":[5,10]}\n",
        "grid_search = GridSearchCV(rfc, param_grid=param_grid, cv=2, scoring=\"recall\")\n",
        "grid_search.fit(X_train, y_train)\n",
        "print(grid_search.best_params_)\n",
        "print(grid_search.best_score_)"
      ]
    },
    {
      "cell_type": "markdown",
      "id": "e5b8c9f5-1546-41b2-85c1-c7e456153e73",
      "metadata": {
        "id": "e5b8c9f5-1546-41b2-85c1-c7e456153e73"
      },
      "source": [
        "## Plot confusion matrix"
      ]
    },
    {
      "cell_type": "code",
      "execution_count": 9,
      "id": "a6bb507a-3230-47ec-bdb9-75aff0399fd6",
      "metadata": {
        "id": "a6bb507a-3230-47ec-bdb9-75aff0399fd6",
        "outputId": "8f8bf248-561f-4322-8890-c3af0a840ed4",
        "colab": {
          "base_uri": "https://localhost:8080/",
          "height": 211
        }
      },
      "outputs": [
        {
          "output_type": "error",
          "ename": "NameError",
          "evalue": "name 'cm_display' is not defined",
          "traceback": [
            "\u001b[0;31m---------------------------------------------------------------------------\u001b[0m",
            "\u001b[0;31mNameError\u001b[0m                                 Traceback (most recent call last)",
            "\u001b[0;32m<ipython-input-9-ca57064419ac>\u001b[0m in \u001b[0;36m<cell line: 3>\u001b[0;34m()\u001b[0m\n\u001b[1;32m      1\u001b[0m \u001b[0mcm\u001b[0m \u001b[0;34m=\u001b[0m \u001b[0mconfusion_matrix\u001b[0m\u001b[0;34m(\u001b[0m\u001b[0my_test\u001b[0m\u001b[0;34m,\u001b[0m \u001b[0my_pred\u001b[0m\u001b[0;34m,\u001b[0m \u001b[0mnormalize\u001b[0m\u001b[0;34m=\u001b[0m\u001b[0;34m'true'\u001b[0m\u001b[0;34m)\u001b[0m\u001b[0;34m\u001b[0m\u001b[0;34m\u001b[0m\u001b[0m\n\u001b[1;32m      2\u001b[0m \u001b[0mdisp\u001b[0m \u001b[0;34m=\u001b[0m \u001b[0mConfusionMatrixDisplay\u001b[0m\u001b[0;34m(\u001b[0m\u001b[0mconfusion_matrix\u001b[0m\u001b[0;34m=\u001b[0m\u001b[0mcm\u001b[0m\u001b[0;34m)\u001b[0m\u001b[0;34m\u001b[0m\u001b[0;34m\u001b[0m\u001b[0m\n\u001b[0;32m----> 3\u001b[0;31m \u001b[0mcm_display\u001b[0m\u001b[0;34m.\u001b[0m\u001b[0mplot\u001b[0m\u001b[0;34m(\u001b[0m\u001b[0minclude_values\u001b[0m \u001b[0;34m=\u001b[0m \u001b[0;32mFalse\u001b[0m\u001b[0;34m,\u001b[0m \u001b[0mcmap\u001b[0m \u001b[0;34m=\u001b[0m \u001b[0;34m'cividis'\u001b[0m\u001b[0;34m)\u001b[0m\u001b[0;34m\u001b[0m\u001b[0;34m\u001b[0m\u001b[0m\n\u001b[0m\u001b[1;32m      4\u001b[0m \u001b[0mdisp\u001b[0m\u001b[0;34m.\u001b[0m\u001b[0mplot\u001b[0m\u001b[0;34m(\u001b[0m\u001b[0;34m)\u001b[0m\u001b[0;34m\u001b[0m\u001b[0;34m\u001b[0m\u001b[0m\n\u001b[1;32m      5\u001b[0m \u001b[0mplt\u001b[0m\u001b[0;34m.\u001b[0m\u001b[0mshow\u001b[0m\u001b[0;34m(\u001b[0m\u001b[0;34m)\u001b[0m\u001b[0;34m\u001b[0m\u001b[0;34m\u001b[0m\u001b[0m\n",
            "\u001b[0;31mNameError\u001b[0m: name 'cm_display' is not defined"
          ]
        }
      ],
      "source": [
        "cm = confusion_matrix(y_test, y_pred, normalize='true')\n",
        "disp = ConfusionMatrixDisplay(confusion_matrix=cm)\n",
        "cm_display.plot(include_values = False, cmap = 'cividis')\n",
        "disp.plot()\n",
        "plt.show()"
      ]
    },
    {
      "cell_type": "markdown",
      "id": "190d2c84-df13-4ed4-8e06-f8fd0d434611",
      "metadata": {
        "id": "190d2c84-df13-4ed4-8e06-f8fd0d434611"
      },
      "source": [
        "## Ensemble voting classifier and accuracy scores"
      ]
    },
    {
      "cell_type": "code",
      "execution_count": null,
      "id": "wSj5EY9EUvuo",
      "metadata": {
        "colab": {
          "base_uri": "https://localhost:8080/"
        },
        "id": "wSj5EY9EUvuo",
        "outputId": "fbdadbbe-c31f-462d-aa02-829ceeecaab5"
      },
      "outputs": [
        {
          "name": "stdout",
          "output_type": "stream",
          "text": [
            "Scores: [0.96906077 0.96572692 0.96627971 0.97567717 0.96849088]\n",
            "Accuracy: 0.97 (+/- 0.00) [RandomForest]\n",
            "Scores: [0.96519337 0.97457159 0.97401879 0.97070205 0.97512438]\n",
            "Accuracy: 0.97 (+/- 0.00) [xgBoost]\n",
            "Scores: [0.96022099 0.95301271 0.95688226 0.9673853  0.96296296]\n",
            "Accuracy: 0.96 (+/- 0.00) [GridSearch]\n",
            "Scores: [0.96740331 0.9668325  0.96517413 0.97236042 0.97014925]\n",
            "Accuracy: 0.97 (+/- 0.00) [Ensemble]\n"
          ]
        }
      ],
      "source": [
        "eclf = VotingClassifier(\n",
        "    # estimators=[('lr', clf1), ('rf', clf2), ('gnb', clf3), ('gb', clf4), ('ada', clf5)],\n",
        "    estimators = [('rf', model), ('xgb', clf1), ('gs', grid_search)],\n",
        "    voting='hard')\n",
        "\n",
        "# for clf, label in zip([clf1, clf2, clf3, clf4, clf5, eclf], ['Logistic Regression', 'Random Forest', 'Naive Bayes', 'Gradient Boosting', 'ADA Boosting', 'Ensemble']):\n",
        "for clf, label in zip([model, clf1, grid_search, eclf], ['RandomForest', 'xgBoost', 'GridSearch', 'Ensemble']):\n",
        "    scores = cross_val_score(clf, X, y.values.ravel(), scoring='accuracy', cv=5)\n",
        "    print(\"Accuracy: %0.2f (+/- %0.2f) [%s]\" % (scores.mean(), scores.std(), label))"
      ]
    },
    {
      "cell_type": "code",
      "execution_count": null,
      "id": "ZhgyDVCraAgB",
      "metadata": {
        "id": "ZhgyDVCraAgB",
        "outputId": "c2801c0e-6203-4139-e607-dafa1e6ad1b5"
      },
      "outputs": [
        {
          "name": "stdout",
          "output_type": "stream",
          "text": [
            "Accuracy: 0.97 (+/- 0.00) [RandomForest]\n",
            "Accuracy: 0.97 (+/- 0.00) [xgBoost]\n",
            "Accuracy: 0.96 (+/- 0.01) [GridSearch]\n",
            "Accuracy: 0.97 (+/- 0.00) [Ensemble]\n"
          ]
        }
      ],
      "source": [
        "eclf = VotingClassifier(\n",
        "    # estimators=[('lr', clf1), ('rf', clf2), ('gnb', clf3), ('gb', clf4), ('ada', clf5)],\n",
        "    estimators = [('rf', model), ('xgb', clf1), ('gs', grid_search)],\n",
        "    voting='soft')\n",
        "\n",
        "# for clf, label in zip([clf1, clf2, clf3, clf4, clf5, eclf], ['Logistic Regression', 'Random Forest', 'Naive Bayes', 'Gradient Boosting', 'ADA Boosting', 'Ensemble']):\n",
        "for clf, label in zip([model, clf1, grid_search, eclf], ['RandomForest', 'xgBoost', 'GridSearch', 'Ensemble']):\n",
        "    scores = cross_val_score(clf, X, y.values.ravel(), scoring='accuracy', cv=5)\n",
        "    print(\"Accuracy: %0.2f (+/- %0.2f) [%s]\" % (scores.mean(), scores.std(), label))"
      ]
    },
    {
      "cell_type": "markdown",
      "id": "a2d96383-a1e0-485e-b5ee-94ff7e9eaa33",
      "metadata": {
        "id": "a2d96383-a1e0-485e-b5ee-94ff7e9eaa33"
      },
      "source": [
        "## Plot"
      ]
    },
    {
      "cell_type": "code",
      "execution_count": null,
      "id": "b52f639a-b61c-4282-a59e-2884e37e81ed",
      "metadata": {
        "id": "b52f639a-b61c-4282-a59e-2884e37e81ed",
        "outputId": "429f9f0b-3ad8-46ed-ed13-c59c38b7a704"
      },
      "outputs": [
        {
          "name": "stdout",
          "output_type": "stream",
          "text": [
            "Random Forest Score: 96.74%\n",
            "xgBoost Score: 97.29%\n",
            "Grid Search Score: 97.51%\n",
            "Ensemble Score: 97.46%\n"
          ]
        },
        {
          "data": {
            "image/png": "[encoded data removed]",
            "text/plain": [
              "<Figure size 640x480 with 1 Axes>"
            ]
          },
          "metadata": {},
          "output_type": "display_data"
        }
      ],
      "source": [
        "names = ['Random Forest', 'xgBoost', 'Grid Search', 'Ensemble']\n",
        "floatScores = [0.0, 0.0, 0.0, 0.0]\n",
        "base = 95\n",
        "\n",
        "for i in range(0,4):\n",
        "    print(f'{names[i]} Score: {(100*scores[i]):.2f}%')\n",
        "    floatScores[i] = float(scores[i]*100) - 95\n",
        "fig, ax = plt.subplots()\n",
        "\n",
        "# bar_labels = ['red', 'blue', 'yellow', 'orange']\n",
        "bar_colors = ['tab:red', 'tab:blue', 'y', 'tab:orange']\n",
        "\n",
        "# ax.bar(names, floatScores, label=bar_labels, color=bar_colors, bottom=base)\n",
        "ax.bar(names, floatScores, color=bar_colors, bottom=base)\n",
        "\n",
        "ax.set_ylabel('Accuracy (%)')\n",
        "ax.set_title('Accuracy of Various Classifiers')\n",
        "# ax.legend(title='color')\n",
        "\n",
        "plt.show()"
      ]
    },
    {
      "cell_type": "code",
      "execution_count": null,
      "id": "6b9809a5-31f2-413b-a382-5d6d22d36cc3",
      "metadata": {
        "id": "6b9809a5-31f2-413b-a382-5d6d22d36cc3"
      },
      "outputs": [],
      "source": []
    }
  ],
  "metadata": {
    "colab": {
      "provenance": []
    },
    "kernelspec": {
      "display_name": "Python 3 (ipykernel)",
      "language": "python",
      "name": "python3"
    },
    "language_info": {
      "codemirror_mode": {
        "name": "ipython",
        "version": 3
      },
      "file_extension": ".py",
      "mimetype": "text/x-python",
      "name": "python",
      "nbconvert_exporter": "python",
      "pygments_lexer": "ipython3",
      "version": "3.12.4"
    }
  },
  "nbformat": 4,
  "nbformat_minor": 5
}