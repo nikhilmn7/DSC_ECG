{
  "cells": [
    {
      "cell_type": "code",
      "source": [
        "import pandas as pd\n",
        "import numpy as np\n",
        "import matplotlib.pyplot as plt"
      ],
      "metadata": {
        "id": "rUf2NvfSH2ey",
        "ExecuteTime": {
          "end_time": "2024-07-22T20:39:59.142666Z",
          "start_time": "2024-07-22T20:39:59.138850Z"
        }
      },
      "id": "rUf2NvfSH2ey",
      "outputs": [],
      "execution_count": 1
    },
    {
      "cell_type": "code",
      "source": [
        "#### Data Visualization here\n",
        "\n",
        "data_normal = pd.read_csv('ptbdb_normal.csv', header = None)\n",
        "data_abnormal = pd.read_csv('ptbdb_abnormal.csv', header = None)\n",
        "classes_names = {0 : \"normal\",\n",
        "                 1 : \"abnormal\"}\n",
        "\n",
        "num_cols = data_normal.shape[1] - 1\n",
        "time = np.arange(0, num_cols) / 125\n",
        "time = time * 1000\n",
        "data_normal.columns = list(time) + [\"label\"]\n",
        "data_abnormal.columns = list(time) + [\"label\"]\n",
        "df_ptbd = pd.concat([data_normal, data_abnormal], axis = 0)\n",
        "counts = df_ptbd[\"label\"].value_counts()\n",
        "counts.index = counts.index.map(classes_names)"
      ],
      "metadata": {
        "id": "kjFKZxChKPcf",
        "ExecuteTime": {
          "end_time": "2024-07-22T20:46:24.688755Z",
          "start_time": "2024-07-22T20:46:23.998855Z"
        }
      },
      "id": "kjFKZxChKPcf",
      "outputs": [],
      "execution_count": 2
    },
    {
      "cell_type": "code",
      "source": [
        "# create a figure\n",
        "plt.figure(figsize = (10, 5))\n",
        "# plot a bar chart\n",
        "counts.plot(kind = \"bar\")\n",
        "# plot xticks in angle\n",
        "plt.xticks(rotation = 0)\n",
        "plt.title(\"Number of samples in each class\")\n",
        "plt.show()\n",
        "plt.close()"
      ],
      "metadata": {
        "id": "Zcztr5WPKT0k",
        "ExecuteTime": {
          "end_time": "2024-07-22T20:40:01.176531Z",
          "start_time": "2024-07-22T20:40:01.017246Z"
        },
        "colab": {
          "base_uri": "https://localhost:8080/",
          "height": 487
        },
        "outputId": "9368dc81-4f2f-4bc6-c1b2-8edc4c86a18b"
      },
      "id": "Zcztr5WPKT0k",
      "outputs": [
        {
          "output_type": "display_data",
          "data": {
            "text/plain": [
              "<Figure size 1000x500 with 1 Axes>"
            ],
            "image/png": "[encoded data removed]"
          },
          "metadata": {}
        }
      ],
      "execution_count": 3
    },
    {
      "metadata": {
        "id": "de15b4654e3845c9",
        "ExecuteTime": {
          "end_time": "2024-07-22T20:46:09.776615Z",
          "start_time": "2024-07-22T20:46:09.180065Z"
        },
        "colab": {
          "base_uri": "https://localhost:8080/"
        },
        "outputId": "e0664293-5188-42dd-93aa-6d2c5c5e066f"
      },
      "cell_type": "code",
      "source": [
        "#### Data concatenation and preparation here\n",
        "normal_df = pd.read_csv(\"ptbdb_normal.csv\", header=None)\n",
        "abnormal_df = pd.read_csv(\"ptbdb_abnormal.csv\", header=None)\n",
        "\n",
        "abnormal_df.rename(columns={'187': \"Label\"}, inplace=True)\n",
        "normal_df.rename(columns={'187': \"Label\"}, inplace=True)\n",
        "\n",
        "#downsample the abnormal df to a size closer to the normal df\n",
        "abnormal_df = abnormal_df.sample(n=5000, random_state=1)\n",
        "total_df = pd.concat([normal_df, abnormal_df])\n",
        "\n",
        "len(total_df)"
      ],
      "id": "de15b4654e3845c9",
      "outputs": [
        {
          "output_type": "execute_result",
          "data": {
            "text/plain": [
              "9046"
            ]
          },
          "metadata": {},
          "execution_count": 4
        }
      ],
      "execution_count": 4
    },
    {
      "metadata": {
        "id": "2c38c269e4d9cea7",
        "ExecuteTime": {
          "end_time": "2024-07-22T21:06:37.982888Z",
          "start_time": "2024-07-22T21:05:55.993203Z"
        }
      },
      "cell_type": "code",
      "source": [
        "#### Model init and training here\n",
        "\n",
        "from sklearn.model_selection import train_test_split\n",
        "from sklearn.model_selection import cross_val_score\n",
        "from sklearn.linear_model import LogisticRegression\n",
        "from sklearn.naive_bayes import GaussianNB\n",
        "from sklearn.ensemble import RandomForestClassifier\n",
        "from sklearn.ensemble import GradientBoostingClassifier\n",
        "from sklearn.ensemble import AdaBoostClassifier\n",
        "from sklearn.ensemble import VotingClassifier\n",
        "\n",
        "\n",
        "X, y = total_df.iloc[:,:187], total_df.iloc[:,-1:]\n",
        "\n",
        "X_train, X_test, y_train, y_test = train_test_split(X, y, test_size=0.2, random_state=42)\n",
        "\n",
        "clf1 = LogisticRegression(random_state=1)\n",
        "clf2 = RandomForestClassifier(n_estimators=50, random_state=1)\n",
        "clf3 = GaussianNB()\n",
        "clf4 = GradientBoostingClassifier()\n",
        "clf5 = AdaBoostClassifier(n_estimators=100, algorithm=\"SAMME\", random_state=1)"
      ],
      "id": "2c38c269e4d9cea7",
      "outputs": [],
      "execution_count": 5
    },
    {
      "cell_type": "code",
      "source": [
        "eclf = VotingClassifier(\n",
        "    estimators=[('lr', clf1), ('rf', clf2), ('gnb', clf3), ('gb', clf4), ('ada', clf5)],\n",
        "    voting='hard')\n",
        "\n",
        "for clf, label in zip([clf1, clf2, clf3, clf4, clf5, eclf], ['Logistic Regression', 'Random Forest', 'Naive Bayes', 'Gradient Boosting', 'ADA Boosting', 'Ensemble']):\n",
        "    scores = cross_val_score(clf, X, y.values.ravel(), scoring='accuracy', cv=5)\n",
        "    print(\"Accuracy: %0.2f (+/- %0.2f) [%s]\" % (scores.mean(), scores.std(), label))"
      ],
      "metadata": {
        "colab": {
          "base_uri": "https://localhost:8080/"
        },
        "id": "wSj5EY9EUvuo",
        "outputId": "fbdadbbe-c31f-462d-aa02-829ceeecaab5"
      },
      "id": "wSj5EY9EUvuo",
      "execution_count": 7,
      "outputs": [
        {
          "output_type": "stream",
          "name": "stderr",
          "text": [
            "/usr/local/lib/python3.10/dist-packages/sklearn/linear_model/_logistic.py:458: ConvergenceWarning: lbfgs failed to converge (status=1):\n",
            "STOP: TOTAL NO. of ITERATIONS REACHED LIMIT.\n",
            "\n",
            "Increase the number of iterations (max_iter) or scale the data as shown in:\n",
            "    https://scikit-learn.org/stable/modules/preprocessing.html\n",
            "Please also refer to the documentation for alternative solver options:\n",
            "    https://scikit-learn.org/stable/modules/linear_model.html#logistic-regression\n",
            "  n_iter_i = _check_optimize_result(\n",
            "/usr/local/lib/python3.10/dist-packages/sklearn/linear_model/_logistic.py:458: ConvergenceWarning: lbfgs failed to converge (status=1):\n",
            "STOP: TOTAL NO. of ITERATIONS REACHED LIMIT.\n",
            "\n",
            "Increase the number of iterations (max_iter) or scale the data as shown in:\n",
            "    https://scikit-learn.org/stable/modules/preprocessing.html\n",
            "Please also refer to the documentation for alternative solver options:\n",
            "    https://scikit-learn.org/stable/modules/linear_model.html#logistic-regression\n",
            "  n_iter_i = _check_optimize_result(\n",
            "/usr/local/lib/python3.10/dist-packages/sklearn/linear_model/_logistic.py:458: ConvergenceWarning: lbfgs failed to converge (status=1):\n",
            "STOP: TOTAL NO. of ITERATIONS REACHED LIMIT.\n",
            "\n",
            "Increase the number of iterations (max_iter) or scale the data as shown in:\n",
            "    https://scikit-learn.org/stable/modules/preprocessing.html\n",
            "Please also refer to the documentation for alternative solver options:\n",
            "    https://scikit-learn.org/stable/modules/linear_model.html#logistic-regression\n",
            "  n_iter_i = _check_optimize_result(\n",
            "/usr/local/lib/python3.10/dist-packages/sklearn/linear_model/_logistic.py:458: ConvergenceWarning: lbfgs failed to converge (status=1):\n",
            "STOP: TOTAL NO. of ITERATIONS REACHED LIMIT.\n",
            "\n",
            "Increase the number of iterations (max_iter) or scale the data as shown in:\n",
            "    https://scikit-learn.org/stable/modules/preprocessing.html\n",
            "Please also refer to the documentation for alternative solver options:\n",
            "    https://scikit-learn.org/stable/modules/linear_model.html#logistic-regression\n",
            "  n_iter_i = _check_optimize_result(\n",
            "/usr/local/lib/python3.10/dist-packages/sklearn/linear_model/_logistic.py:458: ConvergenceWarning: lbfgs failed to converge (status=1):\n",
            "STOP: TOTAL NO. of ITERATIONS REACHED LIMIT.\n",
            "\n",
            "Increase the number of iterations (max_iter) or scale the data as shown in:\n",
            "    https://scikit-learn.org/stable/modules/preprocessing.html\n",
            "Please also refer to the documentation for alternative solver options:\n",
            "    https://scikit-learn.org/stable/modules/linear_model.html#logistic-regression\n",
            "  n_iter_i = _check_optimize_result(\n"
          ]
        },
        {
          "output_type": "stream",
          "name": "stdout",
          "text": [
            "Accuracy: 0.79 (+/- 0.01) [Logistic Regression]\n",
            "Accuracy: 0.96 (+/- 0.01) [Random Forest]\n",
            "Accuracy: 0.68 (+/- 0.01) [Naive Bayes]\n",
            "Accuracy: 0.92 (+/- 0.00) [Gradient Boosting]\n",
            "Accuracy: 0.83 (+/- 0.01) [ADA Boosting]\n"
          ]
        },
        {
          "output_type": "stream",
          "name": "stderr",
          "text": [
            "/usr/local/lib/python3.10/dist-packages/sklearn/linear_model/_logistic.py:458: ConvergenceWarning: lbfgs failed to converge (status=1):\n",
            "STOP: TOTAL NO. of ITERATIONS REACHED LIMIT.\n",
            "\n",
            "Increase the number of iterations (max_iter) or scale the data as shown in:\n",
            "    https://scikit-learn.org/stable/modules/preprocessing.html\n",
            "Please also refer to the documentation for alternative solver options:\n",
            "    https://scikit-learn.org/stable/modules/linear_model.html#logistic-regression\n",
            "  n_iter_i = _check_optimize_result(\n",
            "/usr/local/lib/python3.10/dist-packages/sklearn/linear_model/_logistic.py:458: ConvergenceWarning: lbfgs failed to converge (status=1):\n",
            "STOP: TOTAL NO. of ITERATIONS REACHED LIMIT.\n",
            "\n",
            "Increase the number of iterations (max_iter) or scale the data as shown in:\n",
            "    https://scikit-learn.org/stable/modules/preprocessing.html\n",
            "Please also refer to the documentation for alternative solver options:\n",
            "    https://scikit-learn.org/stable/modules/linear_model.html#logistic-regression\n",
            "  n_iter_i = _check_optimize_result(\n",
            "/usr/local/lib/python3.10/dist-packages/sklearn/linear_model/_logistic.py:458: ConvergenceWarning: lbfgs failed to converge (status=1):\n",
            "STOP: TOTAL NO. of ITERATIONS REACHED LIMIT.\n",
            "\n",
            "Increase the number of iterations (max_iter) or scale the data as shown in:\n",
            "    https://scikit-learn.org/stable/modules/preprocessing.html\n",
            "Please also refer to the documentation for alternative solver options:\n",
            "    https://scikit-learn.org/stable/modules/linear_model.html#logistic-regression\n",
            "  n_iter_i = _check_optimize_result(\n",
            "/usr/local/lib/python3.10/dist-packages/sklearn/linear_model/_logistic.py:458: ConvergenceWarning: lbfgs failed to converge (status=1):\n",
            "STOP: TOTAL NO. of ITERATIONS REACHED LIMIT.\n",
            "\n",
            "Increase the number of iterations (max_iter) or scale the data as shown in:\n",
            "    https://scikit-learn.org/stable/modules/preprocessing.html\n",
            "Please also refer to the documentation for alternative solver options:\n",
            "    https://scikit-learn.org/stable/modules/linear_model.html#logistic-regression\n",
            "  n_iter_i = _check_optimize_result(\n",
            "/usr/local/lib/python3.10/dist-packages/sklearn/linear_model/_logistic.py:458: ConvergenceWarning: lbfgs failed to converge (status=1):\n",
            "STOP: TOTAL NO. of ITERATIONS REACHED LIMIT.\n",
            "\n",
            "Increase the number of iterations (max_iter) or scale the data as shown in:\n",
            "    https://scikit-learn.org/stable/modules/preprocessing.html\n",
            "Please also refer to the documentation for alternative solver options:\n",
            "    https://scikit-learn.org/stable/modules/linear_model.html#logistic-regression\n",
            "  n_iter_i = _check_optimize_result(\n"
          ]
        },
        {
          "output_type": "stream",
          "name": "stdout",
          "text": [
            "Accuracy: 0.90 (+/- 0.01) [Ensemble]\n"
          ]
        }
      ]
    },
    {
      "cell_type": "code",
      "source": [
        "eclf = VotingClassifier(\n",
        "    estimators=[('lr', clf1), ('rf', clf2), ('gnb', clf3), ('gb', clf4), ('ada', clf5)],\n",
        "    voting='soft')\n",
        "\n",
        "for clf, label in zip([clf1, clf2, clf3, clf4, clf5, eclf], ['Logistic Regression', 'Random Forest', 'Naive Bayes', 'Gradient Boosting', 'ADA Boosting', 'Ensemble']):\n",
        "    scores = cross_val_score(clf, X, y.values.ravel(), scoring='accuracy', cv=5)\n",
        "    print(\"Accuracy: %0.2f (+/- %0.2f) [%s]\" % (scores.mean(), scores.std(), label))"
      ],
      "metadata": {
        "id": "ZhgyDVCraAgB"
      },
      "id": "ZhgyDVCraAgB",
      "execution_count": null,
      "outputs": []
    }
  ],
  "metadata": {
    "kernelspec": {
      "display_name": "Python 3",
      "name": "python3"
    },
    "language_info": {
      "codemirror_mode": {
        "name": "ipython",
        "version": 2
      },
      "file_extension": ".py",
      "mimetype": "text/x-python",
      "name": "python",
      "nbconvert_exporter": "python",
      "pygments_lexer": "ipython2",
      "version": "2.7.6"
    },
    "colab": {
      "provenance": []
    }
  },
  "nbformat": 4,
  "nbformat_minor": 5
}